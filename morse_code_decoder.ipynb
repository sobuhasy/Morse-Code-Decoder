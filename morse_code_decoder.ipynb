{
 "cells": [
  {
   "cell_type": "markdown",
   "metadata": {},
   "source": [
    "# Morse-Code-Decoder\n",
    "\n",
    "Hierbei handelt es sich um ein Programm, welches den Morse-Code entsprechend den manuell eingestellten Parametern (Schwellenwert, Abtastrate, Trägerfrequenz und Timing (d.h. die Dauer von \"Dit\")) dekodiert.\n"
   ]
  },
  {
   "cell_type": "markdown",
   "metadata": {},
   "source": [
    "Zuerst werden wir die Bibliotheken `numpy` und `scipy` nutzen, um die `.wav`-Datei, den Buffer und den Tiefpass-Filter zu importieren."
   ]
  },
  {
   "cell_type": "code",
   "execution_count": 1,
   "metadata": {},
   "outputs": [],
   "source": [
    "import numpy as np\n",
    "from scipy.io import wavfile\n",
    "from scipy.signal import butter, lfilter"
   ]
  },
  {
   "cell_type": "markdown",
   "metadata": {},
   "source": [
    "## Bandpass-Filter"
   ]
  },
  {
   "cell_type": "code",
   "execution_count": 2,
   "metadata": {},
   "outputs": [],
   "source": [
    "def bandpass_filter(data, lowcut, highcut, fs, order=5):\n",
    "    nyq = 0.5 * fs\n",
    "    low = lowcut / nyq\n",
    "    high = highcut / nyq\n",
    "    b, a = butter(order, [low, high], btype='band')\n",
    "    y = lfilter(b, a, data)\n",
    "    return y"
   ]
  },
  {
   "cell_type": "markdown",
   "metadata": {},
   "source": [
    "## Morse-Code-Wörterbuch"
   ]
  },
  {
   "cell_type": "code",
   "execution_count": 3,
   "metadata": {},
   "outputs": [],
   "source": [
    "morse_code = { \n",
    "    'A':'.-', 'B':'-...',\n",
    "    'C':'-.-.', 'D':'-..', 'E':'.',\n",
    "    'F':'..-.', 'G':'--.', 'H':'....',\n",
    "    'I':'..', 'J':'.---', 'K':'-.-',\n",
    "    'L':'.-..', 'M':'--', 'N':'-.',\n",
    "    'O':'---', 'P':'.--.', 'Q':'--.-',\n",
    "    'R':'.-.', 'S':'...', 'T':'-',\n",
    "    'U':'..-', 'V':'...-', 'W':'.--',\n",
    "    'X':'-..-', 'Y':'-.--', 'Z':'--..',\n",
    "    '1':'.----', '2':'..---', '3':'...--',\n",
    "    '4':'....-', '5':'.....', '6':'-....',\n",
    "    '7':'--...', '8':'---..', '9':'----.',\n",
    "    '0':'-----', ', ':'--..--', '.':'.-.-.-',\n",
    "    '?':'..--..', '/':'-..-.', '-':'-....-',\n",
    "    '(':'-.--.', ')':'-.--.-'}"
   ]
  },
  {
   "cell_type": "markdown",
   "metadata": {},
   "source": [
    "## Umgekehrte Morse-Code-Wörterbuch"
   ]
  },
  {
   "cell_type": "code",
   "execution_count": 4,
   "metadata": {},
   "outputs": [],
   "source": [
    "reverse_morse_code = {v: k for k, v in morse_code.items()}"
   ]
  },
  {
   "cell_type": "markdown",
   "metadata": {},
   "source": [
    "## Parameter\n",
    "Diese sind die Parameter des Morse-Codes:\n",
    "\n",
    "- Trägerfrequenz 600Hz\n",
    "- Sample Rate 7119 Hz\n",
    "- Länge eines Dits 100 ms (entspricht ~12 Wörtern pro Minute)\n",
    "- Schwellenwert für die Erkennung eines \"dit\"s oder \"dah\"s: 0.5\n"
   ]
  },
  {
   "cell_type": "code",
   "execution_count": 5,
   "metadata": {},
   "outputs": [],
   "source": [
    "fs = 7119\n",
    "carrier_freq = 600\n",
    "dit_duration = 0.1\n",
    "threshold = 0.5"
   ]
  },
  {
   "cell_type": "markdown",
   "metadata": {},
   "source": [
    "## Lesen des `wav`-Dateis\n",
    "Hier wird das `wav`-Datei gelesen"
   ]
  },
  {
   "cell_type": "code",
   "execution_count": 6,
   "metadata": {},
   "outputs": [],
   "source": [
    "filename = 'decode_me.wav'\n",
    "fs, data = wavfile.read(filename)"
   ]
  },
  {
   "cell_type": "markdown",
   "metadata": {},
   "source": [
    "## Die Anwendung des Band-Pass-Filters"
   ]
  },
  {
   "cell_type": "code",
   "execution_count": 7,
   "metadata": {},
   "outputs": [],
   "source": [
    "data = bandpass_filter(data, carrier_freq - 50, carrier_freq + 50, fs)"
   ]
  },
  {
   "cell_type": "markdown",
   "metadata": {},
   "source": [
    "## Dekodierung des Morse-Codes\n",
    "\n",
    "Hier wird die Magie gemacht:"
   ]
  },
  {
   "cell_type": "code",
   "execution_count": 8,
   "metadata": {},
   "outputs": [],
   "source": [
    "message = ''\n",
    "current_symbol = ''\n",
    "current_symbol_length = 0\n",
    "for sample in data:\n",
    "    if sample > threshold:\n",
    "        current_symbol_length += 1\n",
    "    else:\n",
    "        if current_symbol_length > 0:\n",
    "            if current_symbol_length < fs * dit_duration * 1.5:\n",
    "                current_symbol += '.'\n",
    "            else:\n",
    "                current_symbol += '-'\n",
    "            current_symbol_length = 0\n",
    "        elif current_symbol:\n",
    "            message += reverse_morse_code.get(current_symbol, '?') + ''\n",
    "            current_symbol = ''"
   ]
  },
  {
   "cell_type": "markdown",
   "metadata": {},
   "source": [
    "Hier wird das dekodierte Nachricht gelesen:"
   ]
  },
  {
   "cell_type": "code",
   "execution_count": 9,
   "metadata": {},
   "outputs": [
    {
     "name": "stdout",
     "output_type": "stream",
     "text": [
      "Dekodierte Nachricht:  EEEEEEEEEEEEEEEEEEEEEEEEEEEEEEEEEEEEEEEEEEEEEEEEEEEEEEEEEEEEEEEEEEEEEEEEEEEEEEEEEEEEEEEEEEEEEEEEEEEEEEEEEEEEEEEEEEEEEEEEEEEEEEEEEEEEEEEEEEEEEEEEEEEEEEEEEEEEEEEEEEEEEEEEEEEEEEEEEEEEEEEEEEEEEEEEEEEEEEEEEEEEEEEEEEEEEEEEEEEEEEEEEEEEEEEEEEEEEEEEEEEEEEEEEEEEEEEEEEEEEEEEEEEEEEEEEEEEEEEEEEEEEEEEEEEEEEEEEEEEEEEEEEEEEEEEEEEEEEEEEEEEEEEEEEEEEEEEEEEEEEEEEEEEEEEEEEEEEEEEEEEEEEEEEEEEEEEEEEEEEEEEEEEEEEEEEEEEEEEEEEEEEEEEEEEEEEEEEEEEEEEEEEEEEEEEEEEEEEEEEEEEEEEEEEEEEEEEEEEEEEEEEEEEEEEEEEEEEEEEEEEEEEEEEEEEEEEEEEEEEEEEEEEEEEEEEEEEEEEEEEEEEEEEEEEEEEEEEEEEEEEEEEEEEEEEEEEEEEEEEEEEEEEEEEEEEEEEEEEEEEEEEEEEEEEEEEEEEEEEEEEEEEEEEEEEEEEEEEEEEEEEEEEEEEEEEEEEEEEEEEEEEEEEEEEEEEEEEEEEEEEEEEEEEEEEEEEEEEEEEEEEEEEEEEEEEEEEEEEEEEEEEEEEEEEEEEEEEEEEEEEEEEEEEEEEEEEEEEEEEEEEEEEEEEEEEEEEEEEEEEEEEEEEEEEEEEEEEEEEEEEEEEEEEEEEEEEEEEEEEEEEEEEEEEEEEEEEEEEEEEEEEEEEEEEEEEEEEEEEEEEEEEEEEEEEEEEEEEEEEEEEEEEEEEEEEEEEEEEEEEEEEEEEEEEEEEEEEEEEEEEEEEEEEEEEEEEEEEEEEEEEEEEEEEEEEEEEEEEEEEEEEEEEEEEEEEEEEEEEEEEEEEEEEEEEEEEEEEEEEEEEEEEEEEEEEEEEEEEEEEEEEEEEEEEEEEEEEEEEEEEEEEEEEEEEEEEEEEEEEEEEEEEEEEEEEEEEEEEEEEEEEEEEEEEEEEEEEEEEEEEEEEEEEEEEEEEEEEEEEEEEEEEEEEEEEEEEEEEEEEEEEEEEEEEEEEEEEEEEEEEEEEEEEEEEEEEEEEEEEEEEEEEEEEEEEEEEEEEEEEEEEEEEEEEEEEEEEEEEEEEEEEEEEEEEEEEEEEEEEEEEEEEEEEEEEEEEEEEEEEEEEEEEEEEEEEEEEEEEEEEEEEEEEEEEEEEEEEEEEEEEEEEEEEEEEEEEEEEEEEEEEEEEEEEEEEEEEEEEEEEEEEEEEEEEEEEEEEEEEEEEEEEEEEEEEEEEEEEEEEEEEEEEEEEEE\n"
     ]
    }
   ],
   "source": [
    "print('Dekodierte Nachricht: ', message)"
   ]
  }
 ],
 "metadata": {
  "kernelspec": {
   "display_name": "base",
   "language": "python",
   "name": "python3"
  },
  "language_info": {
   "codemirror_mode": {
    "name": "ipython",
    "version": 3
   },
   "file_extension": ".py",
   "mimetype": "text/x-python",
   "name": "python",
   "nbconvert_exporter": "python",
   "pygments_lexer": "ipython3",
   "version": "3.11.3"
  }
 },
 "nbformat": 4,
 "nbformat_minor": 2
}
